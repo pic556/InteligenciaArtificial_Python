{
 "cells": [
  {
   "cell_type": "code",
   "execution_count": 1,
   "id": "80be146a-4408-42c7-be24-193a3c6523e4",
   "metadata": {},
   "outputs": [],
   "source": [
    "import random\n",
    "from random import randint,choice\n",
    "import fuzzywuzzy\n",
    "from fuzzywuzzy import fuzz"
   ]
  },
  {
   "cell_type": "code",
   "execution_count": 4,
   "id": "99fe3807-b07f-4037-a7d9-8dba65eb8f32",
   "metadata": {},
   "outputs": [
    {
     "name": "stdin",
     "output_type": "stream",
     "text": [
      "palabra de cuatro letras a ingresar:  IDENTIDAD\n"
     ]
    },
    {
     "name": "stdout",
     "output_type": "stream",
     "text": [
      "la palabra debe tener 4 caracteres: \n"
     ]
    },
    {
     "name": "stdin",
     "output_type": "stream",
     "text": [
      "palabra de cuatro letras a ingresar:  AAAA\n"
     ]
    },
    {
     "name": "stdout",
     "output_type": "stream",
     "text": [
      "Las primeras palabras generadas son:  ['mvip', 'iwzs', 'dfñh', 'eprf', 'ggpw', 'ykkg', 'wenm', 'pgby', 'ftjñ', 'prhp', 'ñefo', 'fpnm', 'hzik', 'yjgf', 'jrgx', 'hvkc', 'mxue', 'wklñ', 'vddp', 'odño', 'txpe', 'uqcp', 'cññf', 'kmib', 'xdfk', 'jari', 'tyse', 'eñlk', 'gxls', 'evon', 'sñpi', 'admk', 'ftwr', 'ukhq', 'nbtj', 'xiqñ', 'iqfi', 'ckwf', 'gmza', 'ibla', 'cwyo', 'rtun', 'vvnl', 'asrh', 'urfr', 'bebv', 'sznu', 'occj', 'kzsv', 'hatk']\n",
      "los individuso seleccionados son:  ['hatk', 'kzsv']\n",
      "La siguiente generacion es:  ['habk', 'hakk', 'kzgk', 'hapv', 'kaok', 'hzmv', 'haxv', 'hznv', 'hamv', 'haiv', 'hacv', 'kzbv', 'harv', 'hzek', 'hasv', 'havk', 'kzsv', 'haik', 'kzfk', 'halv', 'kzav', 'kzdv', 'haxv', 'hzok', 'haqv', 'kauv', 'hzwv', 'kakv', 'hamk', 'kalv', 'kzlv', 'hzdk', 'kauv', 'kavk', 'hagk', 'hack', 'kzgk', 'hatv', 'kzwk', 'hznv', 'kzmv', 'kaov', 'hzzk', 'hapv', 'kazv', 'kzdv', 'kzik', 'kabv', 'kzev', 'hzak']\n",
      "los individuso seleccionados son:  ['hzak', 'kzev']\n",
      "La siguiente generacion es:  ['hzmv', 'kziv', 'kzsv', 'hzfv', 'kzev', 'hzbk', 'kzvv', 'hzfv', 'kzhk', 'kzev', 'hzñk', 'kzqk', 'kzgk', 'kzrv', 'hzek', 'kzuv', 'kzck', 'hzok', 'hzmv', 'hzyv', 'hzfv', 'hztv', 'hzck', 'kzgk', 'hznv', 'kzuk', 'hzñv', 'hznk', 'hzwv', 'hzqv', 'hzik', 'kzkv', 'hzpv', 'kznk', 'hzxv', 'hzqk', 'kzvv', 'hzav', 'kzñk', 'hzyk', 'kztv', 'kzjv', 'kzxv', 'hzek', 'hzlk', 'kzdv', 'hzov', 'kzhk', 'kzvv', 'hznv']\n",
      "los individuso seleccionados son:  ['hznv', 'hznv']\n",
      "La siguiente generacion es:  ['hzfv', 'hzñv', 'hzrv', 'hzov', 'hzav', 'hzhv', 'hzev', 'hzkv', 'hzmv', 'hznv', 'hzgv', 'hzcv', 'hzzv', 'hzwv', 'hzuv', 'hznv', 'hzsv', 'hzlv', 'hzhv', 'hzuv', 'hzuv', 'hzhv', 'hzpv', 'hzmv', 'hzcv', 'hzjv', 'hzuv', 'hzgv', 'hzwv', 'hzñv', 'hzsv', 'hzmv', 'hzov', 'hzlv', 'hzfv', 'hzfv', 'hzzv', 'hzpv', 'hzvv', 'hzdv', 'hzcv', 'hzev', 'hzov', 'hzyv', 'hzgv', 'hzov', 'hzmv', 'hzcv', 'hzzv', 'hzxv']\n",
      "los individuso seleccionados son:  ['hzxv', 'hzzv']\n",
      "La siguiente generacion es:  ['hzsv', 'hzlv', 'hztv', 'hzxv', 'hzdv', 'hzov', 'hziv', 'hzzv', 'hzmv', 'hzhv', 'hzlv', 'hzjv', 'hziv', 'hzjv', 'hznv', 'hzdv', 'hzuv', 'hzlv', 'hzav', 'hzzv', 'hzov', 'hzxv', 'hzñv', 'hzsv', 'hznv', 'hztv', 'hzov', 'hzxv', 'hzjv', 'hzrv', 'hzyv', 'hzqv', 'hzyv', 'hzlv', 'hznv', 'hzov', 'hzxv', 'hzjv', 'hzfv', 'hzrv', 'hzpv', 'hzzv', 'hzhv', 'hzov', 'hzrv', 'hzbv', 'hzvv', 'hzgv', 'hzmv', 'hzbv']\n",
      "los individuso seleccionados son:  ['hzbv', 'hzbv']\n",
      "La siguiente generacion es:  ['hzev', 'hzdv', 'hzgv', 'hziv', 'hznv', 'hzhv', 'hzpv', 'hzdv', 'hzav', 'hzwv', 'hzvv', 'hzrv', 'hzkv', 'hzjv', 'hzzv', 'hzlv', 'hzvv', 'hzwv', 'hzvv', 'hznv', 'hzvv', 'hzwv', 'hzbv', 'hziv', 'hzjv', 'hzqv', 'hznv', 'hzlv', 'hzlv', 'hzcv', 'hzkv', 'hzuv', 'hzmv', 'hzdv', 'hzsv', 'hzñv', 'hzuv', 'hzov', 'hzpv', 'hzfv', 'hzlv', 'hzvv', 'hzpv', 'hzlv', 'hzsv', 'hzev', 'hzqv', 'hzwv', 'hzmv', 'hzxv']\n",
      "los individuso seleccionados son:  ['hzxv', 'hzmv']\n",
      "La siguiente generacion es:  ['hzmv', 'hzjv', 'hzfv', 'hzlv', 'hzav', 'hziv', 'hzñv', 'hzgv', 'hzqv', 'hzñv', 'hzfv', 'hziv', 'hzgv', 'hzpv', 'hzcv', 'hzav', 'hzyv', 'hzgv', 'hzxv', 'hzjv', 'hzñv', 'hzmv', 'hzgv', 'hzgv', 'hzdv', 'hzuv', 'hzñv', 'hzmv', 'hzdv', 'hzev', 'hzsv', 'hzyv', 'hziv', 'hzxv', 'hzov', 'hzov', 'hzbv', 'hzdv', 'hzjv', 'hzcv', 'hzgv', 'hzqv', 'hzhv', 'hzav', 'hzav', 'hztv', 'hzbv', 'hzhv', 'hzlv', 'hzdv']\n",
      "los individuso seleccionados son:  ['hzdv', 'hzdv']\n",
      "La siguiente generacion es:  ['hzjv', 'hzñv', 'hzqv', 'hzrv', 'hzov', 'hzev', 'hzyv', 'hzgv', 'hziv', 'hzev', 'hzgv', 'hzpv', 'hzyv', 'hzrv', 'hzhv', 'hzpv', 'hzvv', 'hzyv', 'hzuv', 'hztv', 'hzkv', 'hzgv', 'hzuv', 'hzcv', 'hzxv', 'hzuv', 'hzev', 'hzjv', 'hzxv', 'hzhv', 'hzlv', 'hzev', 'hzov', 'hzxv', 'hzhv', 'hztv', 'hznv', 'hzav', 'hzvv', 'hzñv', 'hzuv', 'hzuv', 'hzpv', 'hzwv', 'hzwv', 'hzov', 'hzhv', 'hzyv', 'hzbv', 'hziv']\n",
      "los individuso seleccionados son:  ['hziv', 'hziv']\n",
      "La siguiente generacion es:  ['hzxv', 'hzqv', 'hzdv', 'hzkv', 'hzwv', 'hziv', 'hzcv', 'hzñv', 'hzsv', 'hzsv', 'hzhv', 'hztv', 'hziv', 'hzmv', 'hzav', 'hzgv', 'hzbv', 'hzvv', 'hzrv', 'hzmv', 'hzev', 'hzlv', 'hzxv', 'hzuv', 'hzrv', 'hztv', 'hzxv', 'hzñv', 'hzyv', 'hzlv', 'hzhv', 'hzmv', 'hzuv', 'hzdv', 'hzov', 'hzfv', 'hztv', 'hzbv', 'hzgv', 'hzcv', 'hzzv', 'hzhv', 'hzuv', 'hzgv', 'hzfv', 'hzev', 'hzbv', 'hzlv', 'hzov', 'hzbv']\n",
      "los individuso seleccionados son:  ['hzbv', 'hzbv']\n",
      "La siguiente generacion es:  ['hzwv', 'hzzv', 'hzav', 'hzzv', 'hzdv', 'hztv', 'hzkv', 'hziv', 'hzuv', 'hzqv', 'hzyv', 'hzqv', 'hzgv', 'hzkv', 'hzpv', 'hzdv', 'hzkv', 'hzsv', 'hzzv', 'hzkv', 'hzyv', 'hzyv', 'hzhv', 'hzxv', 'hzlv', 'hzxv', 'hzsv', 'hzrv', 'hzlv', 'hzvv', 'hzbv', 'hzñv', 'hzfv', 'hzmv', 'hzcv', 'hzfv', 'hzcv', 'hzzv', 'hzvv', 'hzkv', 'hzsv', 'hzbv', 'hzzv', 'hzñv', 'hzwv', 'hznv', 'hzyv', 'hzjv', 'hzkv', 'hziv']\n",
      "los individuso seleccionados son:  ['hziv', 'hziv']\n",
      "La siguiente generacion es:  ['hzxv', 'hzqv', 'hzyv', 'hzcv', 'hzwv', 'hzxv', 'hznv', 'hzsv', 'hzcv', 'hzcv', 'hzxv', 'hzcv', 'hzkv', 'hzkv', 'hzev', 'hzqv', 'hztv', 'hzcv', 'hzkv', 'hznv', 'hznv', 'hzmv', 'hzbv', 'hzdv', 'hzdv', 'hzav', 'hzpv', 'hzfv', 'hzhv', 'hzñv', 'hzfv', 'hzgv', 'hzov', 'hznv', 'hzgv', 'hzjv', 'hzxv', 'hzhv', 'hzxv', 'hzqv', 'hzgv', 'hzmv', 'hzrv', 'hzjv', 'hzuv', 'hzkv', 'hzpv', 'hznv', 'hzmv', 'hzvv']\n",
      "los individuso seleccionados son:  ['hzvv', 'hzmv']\n",
      "La siguiente generacion es:  ['hzcv', 'hzcv', 'hzuv', 'hzfv', 'hzov', 'hzxv', 'hziv', 'hzgv', 'hzlv', 'hztv', 'hzlv', 'hzav', 'hzzv', 'hzsv', 'hzhv', 'hzsv', 'hzuv', 'hzñv', 'hzzv', 'hzqv', 'hzcv', 'hzvv', 'hzfv', 'hzdv', 'hzlv', 'hztv', 'hzmv', 'hzpv', 'hzñv', 'hzwv', 'hzkv', 'hzev', 'hzmv', 'hzzv', 'hzdv', 'hzkv', 'hzov', 'hzhv', 'hzvv', 'hzav', 'hzxv', 'hzwv', 'hzpv', 'hzgv', 'hzmv', 'hzmv', 'hzvv', 'hzsv', 'hzzv', 'hzhv']\n",
      "los individuso seleccionados son:  ['hzhv', 'hzhv']\n",
      "La siguiente generacion es:  ['hzfv', 'hzyv', 'hzhv', 'hzov', 'hzyv', 'hzñv', 'hzev', 'hzyv', 'hzñv', 'hzxv', 'hzpv', 'hzyv', 'hzxv', 'hziv', 'hztv', 'hzhv', 'hzpv', 'hzzv', 'hzev', 'hzcv', 'hzqv', 'hzqv', 'hzrv', 'hzuv', 'hzov', 'hzmv', 'hzzv', 'hziv', 'hzov', 'hzpv', 'hzrv', 'hziv', 'hzyv', 'hzbv', 'hzgv', 'hztv', 'hzsv', 'hzmv', 'hzjv', 'hzfv', 'hzev', 'hzbv', 'hzyv', 'hzhv', 'hzdv', 'hziv', 'hzev', 'hzmv', 'hzav', 'hzuv']\n",
      "los individuso seleccionados son:  ['hzuv', 'hzuv']\n",
      "La siguiente generacion es:  ['hzav', 'hzbv', 'hzuv', 'hzñv', 'hzhv', 'hzwv', 'hzsv', 'hzrv', 'hzkv', 'hzuv', 'hzñv', 'hzñv', 'hzyv', 'hzqv', 'hzpv', 'hzkv', 'hzkv', 'hzmv', 'hzjv', 'hzav', 'hzgv', 'hzmv', 'hznv', 'hzbv', 'hzyv', 'hzyv', 'hzzv', 'hzzv', 'hziv', 'hzbv', 'hzwv', 'hzev', 'hznv', 'hzuv', 'hzov', 'hzlv', 'hzyv', 'hzñv', 'hzuv', 'hzgv', 'hzgv', 'hzyv', 'hzav', 'hzhv', 'hzrv', 'hzvv', 'hzav', 'hzkv', 'hzev', 'hzdv']\n",
      "los individuso seleccionados son:  ['hzdv', 'hzev']\n",
      "La siguiente generacion es:  ['hzpv', 'hzqv', 'hzsv', 'hzvv', 'hzrv', 'hziv', 'hzzv', 'hzzv', 'hzzv', 'hzgv', 'hzfv', 'hzrv', 'hzhv', 'hztv', 'hzhv', 'hzzv', 'hzjv', 'hzov', 'hzgv', 'hzxv', 'hztv', 'hzpv', 'hzmv', 'hzfv', 'hzdv', 'hzwv', 'hztv', 'hzyv', 'hznv', 'hzev', 'hzlv', 'hzrv', 'hziv', 'hzbv', 'hzqv', 'hzmv', 'hznv', 'hzrv', 'hzav', 'hzlv', 'hzqv', 'hzqv', 'hzlv', 'hzmv', 'hztv', 'hzsv', 'hzov', 'hzjv', 'hzuv', 'hzxv']\n",
      "los individuso seleccionados son:  ['hzxv', 'hzxv']\n",
      "La siguiente generacion es:  ['hzsv', 'hzdv', 'hztv', 'hzwv', 'hzfv', 'hzqv', 'hzov', 'hzgv', 'hzpv', 'hzov', 'hzgv', 'hzkv', 'hzjv', 'hzgv', 'hzev', 'hzkv', 'hzmv', 'hzñv', 'hztv', 'hzqv', 'hzbv', 'hzpv', 'hztv', 'hzhv', 'hzuv', 'hzav', 'hzfv', 'hzjv', 'hzov', 'hzuv', 'hzjv', 'hzcv', 'hzzv', 'hzxv', 'hzev', 'hztv', 'hzdv', 'hzvv', 'hzmv', 'hzpv', 'hzev', 'hzcv', 'hzñv', 'hzjv', 'hzpv', 'hzlv', 'hzzv', 'hzov', 'hzbv', 'hzlv']\n",
      "los individuso seleccionados son:  ['hzlv', 'hzlv']\n",
      "La siguiente generacion es:  ['hzlv', 'hzyv', 'hzhv', 'hzdv', 'hzkv', 'hzcv', 'hzlv', 'hzgv', 'hziv', 'hznv', 'hzrv', 'hzsv', 'hzcv', 'hzxv', 'hzbv', 'hzev', 'hzñv', 'hznv', 'hzav', 'hzhv', 'hzlv', 'hzmv', 'hzñv', 'hzev', 'hzzv', 'hzwv', 'hzpv', 'hzrv', 'hzdv', 'hzhv', 'hzmv', 'hzpv', 'hzvv', 'hzjv', 'hzfv', 'hzkv', 'hzov', 'hzyv', 'hziv', 'hzvv', 'hzav', 'hzov', 'hzdv', 'hzbv', 'hzñv', 'hzbv', 'hzsv', 'hzav', 'hzvv', 'hzrv']\n",
      "los individuso seleccionados son:  ['hzrv', 'hzrv']\n",
      "La siguiente generacion es:  ['hzfv', 'hzmv', 'hzmv', 'hzav', 'hzñv', 'hzev', 'hzñv', 'hzyv', 'hzvv', 'hzyv', 'hzzv', 'hzov', 'hzñv', 'hzñv', 'hzyv', 'hzyv', 'hzgv', 'hzyv', 'hzsv', 'hzfv', 'hzsv', 'hzav', 'hzfv', 'hziv', 'hzqv', 'hzbv', 'hzwv', 'hzyv', 'hztv', 'hzyv', 'hzwv', 'hzñv', 'hzrv', 'hzav', 'hzsv', 'hzcv', 'hznv', 'hzmv', 'hzjv', 'hzwv', 'hzvv', 'hzgv', 'hzrv', 'hznv', 'hzcv', 'hzev', 'hzdv', 'hzñv', 'hzhv', 'hzgv']\n",
      "los individuso seleccionados son:  ['hzgv', 'hzgv']\n",
      "La siguiente generacion es:  ['hzfv', 'hzlv', 'hzkv', 'hzov', 'hzjv', 'hziv', 'hzyv', 'hzbv', 'hzdv', 'hzxv', 'hzcv', 'hzov', 'hzsv', 'hzkv', 'hztv', 'hzjv', 'hzjv', 'hzlv', 'hzxv', 'hzgv', 'hzuv', 'hzkv', 'hzbv', 'hzov', 'hzdv', 'hzwv', 'hzdv', 'hzzv', 'hzev', 'hziv', 'hzcv', 'hzdv', 'hzfv', 'hzpv', 'hzyv', 'hznv', 'hzev', 'hzxv', 'hziv', 'hztv', 'hzmv', 'hzkv', 'hzkv', 'hzdv', 'hzxv', 'hzwv', 'hzmv', 'hzdv', 'hzcv', 'hzav']\n",
      "los individuso seleccionados son:  ['hzav', 'hzcv']\n",
      "La siguiente generacion es:  ['hzcv', 'hzcv', 'hzwv', 'hzwv', 'hzlv', 'hzjv', 'hztv', 'hzzv', 'hzcv', 'hzzv', 'hzxv', 'hziv', 'hzpv', 'hzev', 'hzzv', 'hznv', 'hzqv', 'hzuv', 'hzpv', 'hzyv', 'hziv', 'hzgv', 'hzgv', 'hzzv', 'hzcv', 'hzwv', 'hzrv', 'hzuv', 'hzhv', 'hzov', 'hzbv', 'hzdv', 'hzmv', 'hzqv', 'hzqv', 'hzgv', 'hzuv', 'hzrv', 'hzjv', 'hzxv', 'hztv', 'hzvv', 'hzpv', 'hzwv', 'hzyv', 'hzov', 'hzvv', 'hzbv', 'hzuv', 'hzjv']\n",
      "los individuso seleccionados son:  ['hzjv', 'hzjv']\n",
      "La siguiente generacion es:  ['hzwv', 'hzxv', 'hztv', 'hzyv', 'hzwv', 'hznv', 'hzlv', 'hzyv', 'hzbv', 'hziv', 'hzwv', 'hzkv', 'hznv', 'hzvv', 'hzqv', 'hzxv', 'hzqv', 'hzhv', 'hzbv', 'hzxv', 'hzdv', 'hzav', 'hzvv', 'hzrv', 'hzqv', 'hzyv', 'hzhv', 'hziv', 'hzkv', 'hzqv', 'hztv', 'hziv', 'hzwv', 'hzsv', 'hzpv', 'hzbv', 'hzlv', 'hzdv', 'hzhv', 'hzuv', 'hzjv', 'hzav', 'hzhv', 'hzrv', 'hzqv', 'hzmv', 'hzpv', 'hzwv', 'hzdv', 'hzsv']\n",
      "los individuso seleccionados son:  ['hzsv', 'hzsv']\n",
      "La siguiente generacion es:  ['hzuv', 'hznv', 'hzqv', 'hzvv', 'hzsv', 'hzgv', 'hzkv', 'hztv', 'hzfv', 'hzav', 'hzjv', 'hznv', 'hzyv', 'hzdv', 'hzav', 'hzkv', 'hzlv', 'hzyv', 'hzsv', 'hzgv', 'hzbv', 'hzqv', 'hzlv', 'hzev', 'hzuv', 'hzyv', 'hzdv', 'hzcv', 'hzcv', 'hzqv', 'hzlv', 'hzñv', 'hzuv', 'hzqv', 'hziv', 'hzvv', 'hzrv', 'hzzv', 'hzhv', 'hzzv', 'hzbv', 'hzsv', 'hzuv', 'hziv', 'hzev', 'hzuv', 'hzzv', 'hzvv', 'hzrv', 'hzav']\n",
      "los individuso seleccionados son:  ['hzav', 'hzav']\n",
      "La siguiente generacion es:  ['hzjv', 'hzmv', 'hzhv', 'hzmv', 'hzuv', 'hzdv', 'hzjv', 'hztv', 'hzhv', 'hzgv', 'hzcv', 'hzrv', 'hzyv', 'hzmv', 'hzqv', 'hzsv', 'hzjv', 'hzqv', 'hzjv', 'hzjv', 'hzpv', 'hzxv', 'hzcv', 'hzcv', 'hzbv', 'hzgv', 'hzkv', 'hzkv', 'hzvv', 'hzhv', 'hzov', 'hzbv', 'hzyv', 'hzñv', 'hzfv', 'hzrv', 'hzlv', 'hzwv', 'hzdv', 'hzdv', 'hzev', 'hzfv', 'hztv', 'hzav', 'hzqv', 'hzcv', 'hzev', 'hzpv', 'hzyv', 'hzhv']\n",
      "los individuso seleccionados son:  ['hzhv', 'hzhv']\n",
      "La siguiente generacion es:  ['hzxv', 'hzmv', 'hzuv', 'hzzv', 'hzjv', 'hzwv', 'hzhv', 'hzkv', 'hzyv', 'hzav', 'hzav', 'hzpv', 'hzgv', 'hzev', 'hzhv', 'hzrv', 'hzyv', 'hztv', 'hztv', 'hzmv', 'hztv', 'hzhv', 'hzñv', 'hzbv', 'hzmv', 'hzqv', 'hznv', 'hzpv', 'hziv', 'hziv', 'hznv', 'hzvv', 'hzxv', 'hzhv', 'hzwv', 'hzñv', 'hzgv', 'hzñv', 'hzpv', 'hzjv', 'hzhv', 'hzuv', 'hzov', 'hzhv', 'hzcv', 'hzuv', 'hziv', 'hzcv', 'hzmv', 'hzuv']\n",
      "los individuso seleccionados son:  ['hzuv', 'hzuv']\n",
      "La siguiente generacion es:  ['hzcv', 'hzov', 'hzmv', 'hzev', 'hzkv', 'hzñv', 'hzcv', 'hzsv', 'hztv', 'hzav', 'hzpv', 'hzjv', 'hzov', 'hzbv', 'hzvv', 'hzgv', 'hzkv', 'hzyv', 'hzxv', 'hzev', 'hzbv', 'hzrv', 'hziv', 'hzfv', 'hzlv', 'hzñv', 'hziv', 'hzov', 'hzsv', 'hzgv', 'hzfv', 'hzyv', 'hzpv', 'hzrv', 'hznv', 'hzmv', 'hzev', 'hzjv', 'hzpv', 'hzxv', 'hzhv', 'hzuv', 'hzov', 'hzlv', 'hzov', 'hzmv', 'hzlv', 'hzpv', 'hzhv', 'hziv']\n",
      "los individuso seleccionados son:  ['hziv', 'hziv']\n",
      "La siguiente generacion es:  ['hzzv', 'hzzv', 'hzsv', 'hzpv', 'hzvv', 'hzmv', 'hziv', 'hzfv', 'hzxv', 'hzfv', 'hzgv', 'hzdv', 'hzjv', 'hzjv', 'hzgv', 'hziv', 'hzñv', 'hzfv', 'hzuv', 'hzhv', 'hzqv', 'hzfv', 'hzwv', 'hzwv', 'hzñv', 'hzlv', 'hzmv', 'hzgv', 'hzmv', 'hzuv', 'hzsv', 'hzrv', 'hzpv', 'hzuv', 'hzsv', 'hzñv', 'hzxv', 'hziv', 'hzdv', 'hzkv', 'hzcv', 'hzvv', 'hznv', 'hzfv', 'hzqv', 'hzuv', 'hzpv', 'hznv', 'hzwv', 'hzhv']\n",
      "los individuso seleccionados son:  ['hzhv', 'hzhv']\n",
      "La siguiente generacion es:  ['hzav', 'hzjv', 'hzgv', 'hztv', 'hzdv', 'hzñv', 'hzvv', 'hzgv', 'hzvv', 'hzdv', 'hzzv', 'hzzv', 'hzbv', 'hzjv', 'hzñv', 'hzuv', 'hzpv', 'hzev', 'hzjv', 'hzuv', 'hzdv', 'hzlv', 'hztv', 'hztv', 'hzdv', 'hzkv', 'hznv', 'hziv', 'hzrv', 'hzkv', 'hzkv', 'hziv', 'hzmv', 'hzvv', 'hzrv', 'hzyv', 'hzav', 'hzfv', 'hzxv', 'hzav', 'hziv', 'hzbv', 'hzmv', 'hzav', 'hzhv', 'hzpv', 'hziv', 'hzfv', 'hzhv', 'hzgv']\n",
      "los individuso seleccionados son:  ['hzgv', 'hzgv']\n",
      "La siguiente generacion es:  ['hzcv', 'hzdv', 'hzzv', 'hzgv', 'hzrv', 'hzpv', 'hztv', 'hzxv', 'hzrv', 'hzsv', 'hzfv', 'hzpv', 'hzdv', 'hzav', 'hzbv', 'hzkv', 'hzsv', 'hzyv', 'hzkv', 'hzjv', 'hzhv', 'hzov', 'hzgv', 'hzzv', 'hzmv', 'hzñv', 'hzmv', 'hzdv', 'hzkv', 'hzov', 'hziv', 'hzkv', 'hzfv', 'hzcv', 'hzev', 'hzsv', 'hzcv', 'hziv', 'hzzv', 'hziv', 'hziv', 'hzjv', 'hzyv', 'hzov', 'hzwv', 'hzxv', 'hzwv', 'hzhv', 'hzñv', 'hztv']\n",
      "los individuso seleccionados son:  ['hztv', 'hztv']\n",
      "La siguiente generacion es:  ['hzwv', 'hzcv', 'hzyv', 'hzov', 'hzdv', 'hzmv', 'hzhv', 'hzdv', 'hztv', 'hzzv', 'hzxv', 'hzwv', 'hzñv', 'hznv', 'hzyv', 'hzev', 'hzyv', 'hzsv', 'hzzv', 'hzjv', 'hzwv', 'hzqv', 'hzfv', 'hzpv', 'hzov', 'hzgv', 'hzñv', 'hzsv', 'hzwv', 'hzxv', 'hzzv', 'hzcv', 'hzwv', 'hziv', 'hzqv', 'hzñv', 'hzwv', 'hzqv', 'hznv', 'hzdv', 'hziv', 'hziv', 'hzyv', 'hzpv', 'hzfv', 'hzgv', 'hzfv', 'hzkv', 'hzcv', 'hzbv']\n",
      "los individuso seleccionados son:  ['hzbv', 'hzcv']\n",
      "La siguiente generacion es:  ['hzdv', 'hzuv', 'hzmv', 'hzvv', 'hzñv', 'hzyv', 'hzfv', 'hzev', 'hzav', 'hzpv', 'hzsv', 'hzqv', 'hzav', 'hzlv', 'hzpv', 'hziv', 'hzuv', 'hzxv', 'hzev', 'hzlv', 'hzov', 'hzrv', 'hzzv', 'hzpv', 'hzxv', 'hzwv', 'hzav', 'hzxv', 'hzsv', 'hzñv', 'hztv', 'hzjv', 'hzñv', 'hzgv', 'hzwv', 'hzsv', 'hzlv', 'hzxv', 'hzgv', 'hzev', 'hzvv', 'hzwv', 'hzov', 'hznv', 'hzvv', 'hzñv', 'hzdv', 'hzuv', 'hzov', 'hzwv']\n",
      "los individuso seleccionados son:  ['hzwv', 'hzwv']\n",
      "La palabra final es  hzwv\n"
     ]
    }
   ],
   "source": [
    "def ingresar():\n",
    "    global clave\n",
    "    clave = input(\"palabra de cuatro letras a ingresar: \").lower()\n",
    "    if len(clave) != 4:\n",
    "        print(\"la palabra debe tener 4 caracteres: \")\n",
    "        ingresar()\n",
    "\n",
    "def seleccionar():\n",
    "    global seleccionados\n",
    "    seleccionados = []\n",
    "    max = 0\n",
    "    for i in range(seleccion):\n",
    "        for i in individuos:\n",
    "            aprox = fuzz.ratio(i,clave)\n",
    "            if aprox > max:\n",
    "                seleccionado = i \n",
    "                indice = individuos.index(i)\n",
    "        seleccionados.append(i)\n",
    "        individuos.remove(i)\n",
    "    print(\"los individuso seleccionados son: \",seleccionados)      \n",
    "\n",
    "\n",
    "def heredar():\n",
    "    global individuos\n",
    "    individuos = []\n",
    "    for i in range(poblacion):\n",
    "        individuo = seleccionados[random.randint(0,1)][0] + seleccionados[random.randint(0,1)][1] + choice(letras) + seleccionados[random.randint(0,1)][3]\n",
    "        individuos.append(individuo)\n",
    "    print(\"La siguiente generacion es: \", individuos)\n",
    "    \n",
    "\n",
    "poblacion = 50\n",
    "generaciones = 30\n",
    "seleccion = 2\n",
    "individuos = []\n",
    "letras = [\"a\", \"b\", \"c\", \"d\", \"e\", \"f\", \"g\", \"h\", \"i\", \"j\", \"k\", \"l\", \"m\", \"n\",\"ñ\", \"o\", \"p\", \"q\", \"r\", \"s\", \"t\", \"u\", \"v\", \"w\", \"x\", \"y\", \"z\"]\n",
    "\n",
    "ingresar()\n",
    "\n",
    "for i in range(poblacion):\n",
    "    individuo = choice(letras) + choice(letras) + choice(letras) + choice(letras)\n",
    "    individuos.append(individuo)\n",
    "\n",
    "print(\"Las primeras palabras generadas son: \",individuos)    \n",
    "\n",
    "\n",
    "for i in range(generaciones-1):\n",
    "    seleccionar()\n",
    "    heredar()\n",
    "\n",
    "seleccionar()\n",
    "\n",
    "\n",
    "aprox1 = fuzz.ratio(clave,seleccionados[0])\n",
    "aprox2 = fuzz.ratio(clave,seleccionados[1])\n",
    "\n",
    "if aprox1>aprox2:\n",
    "    print(\"La palabra final es \", seleccionados[0])\n",
    "else:\n",
    "     print(\"La palabra final es \", seleccionados[1])"
   ]
  },
  {
   "cell_type": "code",
   "execution_count": null,
   "id": "e2519095-46fe-45a5-955a-238e63842bd0",
   "metadata": {},
   "outputs": [],
   "source": []
  }
 ],
 "metadata": {
  "kernelspec": {
   "display_name": "Python 3 (ipykernel)",
   "language": "python",
   "name": "python3"
  },
  "language_info": {
   "codemirror_mode": {
    "name": "ipython",
    "version": 3
   },
   "file_extension": ".py",
   "mimetype": "text/x-python",
   "name": "python",
   "nbconvert_exporter": "python",
   "pygments_lexer": "ipython3",
   "version": "3.11.3"
  }
 },
 "nbformat": 4,
 "nbformat_minor": 5
}
