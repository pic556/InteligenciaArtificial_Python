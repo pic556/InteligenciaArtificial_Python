{
 "cells": [
  {
   "cell_type": "code",
   "execution_count": 10,
   "id": "54555155-f1c0-413d-90c6-56375c7b91af",
   "metadata": {},
   "outputs": [],
   "source": [
    "import cv2\n",
    "import random"
   ]
  },
  {
   "cell_type": "code",
   "execution_count": 12,
   "id": "43879785-2ded-44fa-9a53-843abd46be93",
   "metadata": {},
   "outputs": [
    {
     "name": "stdin",
     "output_type": "stream",
     "text": [
      "Por favor, ingresa un número de ciclos:  10\n"
     ]
    },
    {
     "name": "stdout",
     "output_type": "stream",
     "text": [
      "ATENCION\n",
      "DETENERSE\n",
      "ATENCION\n",
      "ATENCION\n",
      "DETENERSE\n",
      "AVANZAR\n",
      "DETENERSE\n",
      "ATENCION\n",
      "AVANZAR\n",
      "DETENERSE\n",
      "DETENERSE\n",
      "ATENCION\n",
      "ATENCION\n",
      "ATENCION\n",
      "DETENERSE\n",
      "AVANZAR\n",
      "AVANZAR\n",
      "ATENCION\n",
      "AVANZAR\n",
      "DETENERSE\n",
      "AVANZAR\n",
      "ATENCION\n",
      "ATENCION\n",
      "ATENCION\n",
      "DETENERSE\n",
      "DETENERSE\n",
      "ATENCION\n",
      "AVANZAR\n",
      "ATENCION\n",
      "ATENCION\n"
     ]
    }
   ],
   "source": [
    "img1 = cv2.imread(\"1.png\")\n",
    "img2 = cv2.imread(\"2.png\")\n",
    "img3 = cv2.imread(\"3.png\")\n",
    "\n",
    "\n",
    "def rojo():\n",
    "    cv2.imshow(\"Rojo\",img1)\n",
    "    cv2.waitKey(2000)\n",
    "    cv2.destroyAllWindows( )\n",
    "    print(\"DETENERSE\")\n",
    "    \n",
    "def amarillo():\n",
    "    cv2.imshow(\"Amarillo\",img2)\n",
    "    cv2.waitKey(2000)\n",
    "    cv2.destroyAllWindows( )\n",
    "    print(\"ATENCION\")\n",
    "\n",
    "def verde():    \n",
    "    cv2.imshow(\"Verde\",img3)\n",
    "    cv2.waitKey(2000)\n",
    "    cv2.destroyAllWindows( )\n",
    "    print(\"AVANZAR\")\n",
    "\n",
    "\n",
    "def ciclosAleatoriosSemaforoRandom(numero_ciclos):\n",
    "    for i in range(numero_ciclos):\n",
    "        lista_numeros = [random.randint(1, 3) for j in range(3)]\n",
    "        for numero_random in lista_numeros:\n",
    "            if(numero_random == 1):\n",
    "                verde()\n",
    "            elif(numero_random == 2):\n",
    "                amarillo()\n",
    "            else:\n",
    "                rojo()\n",
    "\n",
    "numero_ciclos = int(input(\"Por favor, ingresa un número de ciclos: \"))\n",
    "\n",
    "ciclosAleatoriosSemaforoRandom(numero_ciclos)"
   ]
  }
 ],
 "metadata": {
  "kernelspec": {
   "display_name": "Python 3 (ipykernel)",
   "language": "python",
   "name": "python3"
  },
  "language_info": {
   "codemirror_mode": {
    "name": "ipython",
    "version": 3
   },
   "file_extension": ".py",
   "mimetype": "text/x-python",
   "name": "python",
   "nbconvert_exporter": "python",
   "pygments_lexer": "ipython3",
   "version": "3.11.3"
  }
 },
 "nbformat": 4,
 "nbformat_minor": 5
}
