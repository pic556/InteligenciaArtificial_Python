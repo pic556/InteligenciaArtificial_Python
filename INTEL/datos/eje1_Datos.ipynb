{
 "cells": [
  {
   "cell_type": "markdown",
   "id": "d4281a18-5fce-428d-a179-2fcc075f1d7b",
   "metadata": {},
   "source": [
    "# Trabajo 1 - Datos\r\n",
    "Alumno: Pedro Burgos\n"
   ]
  },
  {
   "cell_type": "code",
   "execution_count": 1,
   "id": "ee282a8c-332d-4c18-ba7f-f4e6f60d9a65",
   "metadata": {},
   "outputs": [],
   "source": [
    "import pandas as pd\n",
    "import numpy as np\n",
    "import matplotlib.pyplot as plt"
   ]
  },
  {
   "cell_type": "code",
   "execution_count": 2,
   "id": "a2f49740-94bd-4bc3-b801-0876421a70eb",
   "metadata": {},
   "outputs": [],
   "source": [
    "#Ejercicio 1\n",
    "datos = pd.read_csv(\"nba - nba.csv\")"
   ]
  },
  {
   "cell_type": "code",
   "execution_count": 3,
   "id": "5e93ca87-8e78-42e7-8f5b-0c425b9ad13b",
   "metadata": {},
   "outputs": [
    {
     "name": "stdout",
     "output_type": "stream",
     "text": [
      "<class 'pandas.core.frame.DataFrame'>\n",
      "RangeIndex: 10 entries, 0 to 9\n",
      "Data columns (total 3 columns):\n",
      " #   Column  Non-Null Count  Dtype \n",
      "---  ------  --------------  ----- \n",
      " 0   pos     10 non-null     int64 \n",
      " 1   nombre  10 non-null     object\n",
      " 2   puntos  10 non-null     int64 \n",
      "dtypes: int64(2), object(1)\n",
      "memory usage: 372.0+ bytes\n"
     ]
    }
   ],
   "source": [
    "#Revisare y estudiare los datos\n",
    "datos.info()"
   ]
  },
  {
   "cell_type": "code",
   "execution_count": 4,
   "id": "d4dbd153-58e4-4699-8ab8-77833e8233c9",
   "metadata": {},
   "outputs": [
    {
     "data": {
      "text/html": [
       "<div>\n",
       "<style scoped>\n",
       "    .dataframe tbody tr th:only-of-type {\n",
       "        vertical-align: middle;\n",
       "    }\n",
       "\n",
       "    .dataframe tbody tr th {\n",
       "        vertical-align: top;\n",
       "    }\n",
       "\n",
       "    .dataframe thead th {\n",
       "        text-align: right;\n",
       "    }\n",
       "</style>\n",
       "<table border=\"1\" class=\"dataframe\">\n",
       "  <thead>\n",
       "    <tr style=\"text-align: right;\">\n",
       "      <th></th>\n",
       "      <th>pos</th>\n",
       "      <th>nombre</th>\n",
       "      <th>puntos</th>\n",
       "    </tr>\n",
       "  </thead>\n",
       "  <tbody>\n",
       "    <tr>\n",
       "      <th>0</th>\n",
       "      <td>1</td>\n",
       "      <td>abdul</td>\n",
       "      <td>38387</td>\n",
       "    </tr>\n",
       "    <tr>\n",
       "      <th>1</th>\n",
       "      <td>2</td>\n",
       "      <td>james</td>\n",
       "      <td>36985</td>\n",
       "    </tr>\n",
       "    <tr>\n",
       "      <th>2</th>\n",
       "      <td>3</td>\n",
       "      <td>malone</td>\n",
       "      <td>36928</td>\n",
       "    </tr>\n",
       "    <tr>\n",
       "      <th>3</th>\n",
       "      <td>4</td>\n",
       "      <td>bryant</td>\n",
       "      <td>33600</td>\n",
       "    </tr>\n",
       "    <tr>\n",
       "      <th>4</th>\n",
       "      <td>5</td>\n",
       "      <td>jordan</td>\n",
       "      <td>32200</td>\n",
       "    </tr>\n",
       "    <tr>\n",
       "      <th>5</th>\n",
       "      <td>6</td>\n",
       "      <td>nowitski</td>\n",
       "      <td>31500</td>\n",
       "    </tr>\n",
       "    <tr>\n",
       "      <th>6</th>\n",
       "      <td>7</td>\n",
       "      <td>chamberlain</td>\n",
       "      <td>31400</td>\n",
       "    </tr>\n",
       "    <tr>\n",
       "      <th>7</th>\n",
       "      <td>8</td>\n",
       "      <td>onail</td>\n",
       "      <td>28500</td>\n",
       "    </tr>\n",
       "    <tr>\n",
       "      <th>8</th>\n",
       "      <td>9</td>\n",
       "      <td>anthony</td>\n",
       "      <td>28200</td>\n",
       "    </tr>\n",
       "    <tr>\n",
       "      <th>9</th>\n",
       "      <td>10</td>\n",
       "      <td>malone</td>\n",
       "      <td>27400</td>\n",
       "    </tr>\n",
       "  </tbody>\n",
       "</table>\n",
       "</div>"
      ],
      "text/plain": [
       "   pos       nombre  puntos\n",
       "0    1        abdul   38387\n",
       "1    2        james   36985\n",
       "2    3       malone   36928\n",
       "3    4       bryant   33600\n",
       "4    5       jordan   32200\n",
       "5    6     nowitski   31500\n",
       "6    7  chamberlain   31400\n",
       "7    8        onail   28500\n",
       "8    9      anthony   28200\n",
       "9   10       malone   27400"
      ]
     },
     "execution_count": 4,
     "metadata": {},
     "output_type": "execute_result"
    }
   ],
   "source": [
    "datos"
   ]
  },
  {
   "cell_type": "code",
   "execution_count": 5,
   "id": "f944eda8-7170-4e94-a75a-474ea45be34e",
   "metadata": {},
   "outputs": [],
   "source": [
    "#Ejercicio 2\n",
    "datos = datos.rename( columns = {\"nombre\":\"jugador\"})"
   ]
  },
  {
   "cell_type": "code",
   "execution_count": 6,
   "id": "b6dacf41-cd92-4372-a8a7-de4c62790912",
   "metadata": {},
   "outputs": [
    {
     "data": {
      "text/html": [
       "<div>\n",
       "<style scoped>\n",
       "    .dataframe tbody tr th:only-of-type {\n",
       "        vertical-align: middle;\n",
       "    }\n",
       "\n",
       "    .dataframe tbody tr th {\n",
       "        vertical-align: top;\n",
       "    }\n",
       "\n",
       "    .dataframe thead th {\n",
       "        text-align: right;\n",
       "    }\n",
       "</style>\n",
       "<table border=\"1\" class=\"dataframe\">\n",
       "  <thead>\n",
       "    <tr style=\"text-align: right;\">\n",
       "      <th></th>\n",
       "      <th>pos</th>\n",
       "      <th>jugador</th>\n",
       "      <th>puntos</th>\n",
       "    </tr>\n",
       "  </thead>\n",
       "  <tbody>\n",
       "    <tr>\n",
       "      <th>0</th>\n",
       "      <td>1</td>\n",
       "      <td>abdul</td>\n",
       "      <td>38387</td>\n",
       "    </tr>\n",
       "    <tr>\n",
       "      <th>1</th>\n",
       "      <td>2</td>\n",
       "      <td>james</td>\n",
       "      <td>36985</td>\n",
       "    </tr>\n",
       "    <tr>\n",
       "      <th>2</th>\n",
       "      <td>3</td>\n",
       "      <td>malone</td>\n",
       "      <td>36928</td>\n",
       "    </tr>\n",
       "    <tr>\n",
       "      <th>3</th>\n",
       "      <td>4</td>\n",
       "      <td>bryant</td>\n",
       "      <td>33600</td>\n",
       "    </tr>\n",
       "    <tr>\n",
       "      <th>4</th>\n",
       "      <td>5</td>\n",
       "      <td>jordan</td>\n",
       "      <td>32200</td>\n",
       "    </tr>\n",
       "    <tr>\n",
       "      <th>5</th>\n",
       "      <td>6</td>\n",
       "      <td>nowitski</td>\n",
       "      <td>31500</td>\n",
       "    </tr>\n",
       "    <tr>\n",
       "      <th>6</th>\n",
       "      <td>7</td>\n",
       "      <td>chamberlain</td>\n",
       "      <td>31400</td>\n",
       "    </tr>\n",
       "    <tr>\n",
       "      <th>7</th>\n",
       "      <td>8</td>\n",
       "      <td>onail</td>\n",
       "      <td>28500</td>\n",
       "    </tr>\n",
       "    <tr>\n",
       "      <th>8</th>\n",
       "      <td>9</td>\n",
       "      <td>anthony</td>\n",
       "      <td>28200</td>\n",
       "    </tr>\n",
       "    <tr>\n",
       "      <th>9</th>\n",
       "      <td>10</td>\n",
       "      <td>malone</td>\n",
       "      <td>27400</td>\n",
       "    </tr>\n",
       "  </tbody>\n",
       "</table>\n",
       "</div>"
      ],
      "text/plain": [
       "   pos      jugador  puntos\n",
       "0    1        abdul   38387\n",
       "1    2        james   36985\n",
       "2    3       malone   36928\n",
       "3    4       bryant   33600\n",
       "4    5       jordan   32200\n",
       "5    6     nowitski   31500\n",
       "6    7  chamberlain   31400\n",
       "7    8        onail   28500\n",
       "8    9      anthony   28200\n",
       "9   10       malone   27400"
      ]
     },
     "execution_count": 6,
     "metadata": {},
     "output_type": "execute_result"
    }
   ],
   "source": [
    "datos"
   ]
  },
  {
   "cell_type": "code",
   "execution_count": 9,
   "id": "97592f13-3e70-421e-97a8-e45cdb3331a3",
   "metadata": {},
   "outputs": [
    {
     "name": "stdout",
     "output_type": "stream",
     "text": [
      "Opciones disponibles:\n",
      "1. 1) Si desea ver los jugadores \n",
      "2. 2) ver detalle por jugador\n",
      "3. 3) ver el puntaje general osea la media\n",
      "4. 4) Graficar\n",
      "5. 5) Salir\n"
     ]
    },
    {
     "name": "stdin",
     "output_type": "stream",
     "text": [
      "Seleccione una opción (1-5):  4\n"
     ]
    },
    {
     "data": {
      "image/png": "[encoded data removed]",
      "text/plain": [
       "<Figure size 1200x1200 with 1 Axes>"
      ]
     },
     "metadata": {},
     "output_type": "display_data"
    },
    {
     "name": "stdin",
     "output_type": "stream",
     "text": [
      "¿Quieres volver a seleccionar? (s o n):  n\n"
     ]
    },
    {
     "name": "stdout",
     "output_type": "stream",
     "text": [
      "Adiós\n"
     ]
    }
   ],
   "source": [
    "#### Ejercicio 3\n",
    "class Pedido:\n",
    "    def __init__(self):\n",
    "        pass\n",
    "\n",
    "    def eleccion(self, datos):\n",
    "        opciones = ['1) Si desea ver los jugadores ', '2) ver detalle por jugador', '3) ver el puntaje general osea la media',\"4) Graficar\",\"5) Salir\"]\n",
    "        while True:\n",
    "            # Mostrar las opciones al usuario\n",
    "            print(\"Opciones disponibles:\")\n",
    "            for i, opcion in enumerate(opciones, 1):\n",
    "                print(f\"{i}. {opcion}\")\n",
    "\n",
    "            try:\n",
    "                # Solicitar la elección al usuario\n",
    "                eleccion = int(input(\"Seleccione una opción (1-5): \"))\n",
    "\n",
    "                if eleccion == 1:\n",
    "                    print(datos['jugador'])\n",
    "                elif eleccion == 2:\n",
    "                    print(datos)\n",
    "                    jug = input(\"Seleccione un jugador: \")\n",
    "                    detalles = datos[datos[\"jugador\"] == jug]\n",
    "                    print(detalles)\n",
    "                elif eleccion == 3:\n",
    "                    print(datos['puntos'].mean())\n",
    "                elif eleccion == 4:\n",
    "                    datos[\"jugador\"] = np.where((datos.pos == 10),\"Malone segunda\",datos.jugador)\n",
    "                    x = datos.jugador\n",
    "                    y = datos.puntos\n",
    "                    plt.figure(figsize=(12,12))\n",
    "                    plt.bar(x,y,color=\"orange\")\n",
    "                    plt.title(\"Puntos por Jugador\")\n",
    "                    plt.xlabel(\"JUGADORES\")\n",
    "                    plt.ylabel(\"PUNTOS\")\n",
    "                    plt.show()\n",
    "                    datos[\"jugador\"] = np.where((datos.pos == 10),\"malone\",datos.jugador)\n",
    "                elif eleccion == 5:\n",
    "                    break\n",
    "                else:\n",
    "                    print(\"Volver a ingresar datos\")\n",
    "\n",
    "            except ValueError:\n",
    "                print(\"Por favor, ingrese un número entero válido.\")\n",
    "\n",
    "            elegir = input(\"¿Quieres volver a seleccionar? (s o n): \")\n",
    "            if elegir.lower() != \"s\":\n",
    "                print(\"Adiós\")\n",
    "                break\n",
    "                \n",
    "pedido = Pedido()\n",
    "pedido.eleccion(datos)"
   ]
  }
 ],
 "metadata": {
  "kernelspec": {
   "display_name": "Python 3 (ipykernel)",
   "language": "python",
   "name": "python3"
  },
  "language_info": {
   "codemirror_mode": {
    "name": "ipython",
    "version": 3
   },
   "file_extension": ".py",
   "mimetype": "text/x-python",
   "name": "python",
   "nbconvert_exporter": "python",
   "pygments_lexer": "ipython3",
   "version": "3.11.3"
  }
 },
 "nbformat": 4,
 "nbformat_minor": 5
}
