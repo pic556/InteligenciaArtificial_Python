{
 "cells": [
  {
   "cell_type": "code",
   "execution_count": 2,
   "id": "84f12b1c-20b7-4ecc-b838-8475229b0752",
   "metadata": {},
   "outputs": [],
   "source": [
    "import tensorflow as tf\n",
    "from tensorflow import keras\n",
    "import cv2\n",
    "import numpy as np\n",
    "from tensorflow.keras.models import Sequential\n",
    "from tensorflow.keras.layers import Conv2D, MaxPooling2D, Flatten, Dense, Dropout\n",
    "from keras.layers import Activation\n",
    "\n"
   ]
  },
  {
   "cell_type": "code",
   "execution_count": 3,
   "id": "5969e1c2-846f-4230-b62c-29e6ecdb1874",
   "metadata": {},
   "outputs": [],
   "source": [
    "\n",
    "import warnings\n",
    "\n",
    "# Ignorar todas las advertencias\n",
    "warnings.filterwarnings(\"ignore\")"
   ]
  },
  {
   "cell_type": "code",
   "execution_count": 29,
   "id": "eddb2949-57a7-4e82-8fbc-812bf387d0b3",
   "metadata": {},
   "outputs": [
    {
     "name": "stdout",
     "output_type": "stream",
     "text": [
      "Epoch 1/15\n",
      "\u001b[1m1/1\u001b[0m \u001b[32m━━━━━━━━━━━━━━━━━━━━\u001b[0m\u001b[37m\u001b[0m \u001b[1m7s\u001b[0m 7s/step - accuracy: 0.5000 - loss: 26.8819\n",
      "Epoch 2/15\n",
      "\u001b[1m1/1\u001b[0m \u001b[32m━━━━━━━━━━━━━━━━━━━━\u001b[0m\u001b[37m\u001b[0m \u001b[1m5s\u001b[0m 5s/step - accuracy: 0.5000 - loss: 696.8880\n",
      "Epoch 3/15\n",
      "\u001b[1m1/1\u001b[0m \u001b[32m━━━━━━━━━━━━━━━━━━━━\u001b[0m\u001b[37m\u001b[0m \u001b[1m6s\u001b[0m 6s/step - accuracy: 0.5714 - loss: 23.3208\n",
      "Epoch 4/15\n",
      "\u001b[1m1/1\u001b[0m \u001b[32m━━━━━━━━━━━━━━━━━━━━\u001b[0m\u001b[37m\u001b[0m \u001b[1m5s\u001b[0m 5s/step - accuracy: 0.9286 - loss: 0.4387\n",
      "Epoch 5/15\n",
      "\u001b[1m1/1\u001b[0m \u001b[32m━━━━━━━━━━━━━━━━━━━━\u001b[0m\u001b[37m\u001b[0m \u001b[1m6s\u001b[0m 6s/step - accuracy: 0.7857 - loss: 16.0636\n",
      "Epoch 6/15\n",
      "\u001b[1m1/1\u001b[0m \u001b[32m━━━━━━━━━━━━━━━━━━━━\u001b[0m\u001b[37m\u001b[0m \u001b[1m5s\u001b[0m 5s/step - accuracy: 1.0000 - loss: 5.2859e-05\n",
      "Epoch 7/15\n",
      "\u001b[1m1/1\u001b[0m \u001b[32m━━━━━━━━━━━━━━━━━━━━\u001b[0m\u001b[37m\u001b[0m \u001b[1m6s\u001b[0m 6s/step - accuracy: 0.9286 - loss: 0.1217\n",
      "Epoch 8/15\n",
      "\u001b[1m1/1\u001b[0m \u001b[32m━━━━━━━━━━━━━━━━━━━━\u001b[0m\u001b[37m\u001b[0m \u001b[1m6s\u001b[0m 6s/step - accuracy: 0.5714 - loss: 15.2451\n",
      "Epoch 9/15\n",
      "\u001b[1m1/1\u001b[0m \u001b[32m━━━━━━━━━━━━━━━━━━━━\u001b[0m\u001b[37m\u001b[0m \u001b[1m11s\u001b[0m 11s/step - accuracy: 1.0000 - loss: 0.0000e+00\n",
      "Epoch 10/15\n",
      "\u001b[1m1/1\u001b[0m \u001b[32m━━━━━━━━━━━━━━━━━━━━\u001b[0m\u001b[37m\u001b[0m \u001b[1m10s\u001b[0m 10s/step - accuracy: 1.0000 - loss: 0.0000e+00\n",
      "Epoch 11/15\n",
      "\u001b[1m1/1\u001b[0m \u001b[32m━━━━━━━━━━━━━━━━━━━━\u001b[0m\u001b[37m\u001b[0m \u001b[1m10s\u001b[0m 10s/step - accuracy: 1.0000 - loss: 1.0218e-07\n",
      "Epoch 12/15\n",
      "\u001b[1m1/1\u001b[0m \u001b[32m━━━━━━━━━━━━━━━━━━━━\u001b[0m\u001b[37m\u001b[0m \u001b[1m5s\u001b[0m 5s/step - accuracy: 1.0000 - loss: 0.0000e+00\n",
      "Epoch 13/15\n",
      "\u001b[1m1/1\u001b[0m \u001b[32m━━━━━━━━━━━━━━━━━━━━\u001b[0m\u001b[37m\u001b[0m \u001b[1m6s\u001b[0m 6s/step - accuracy: 1.0000 - loss: 0.0000e+00\n",
      "Epoch 14/15\n",
      "\u001b[1m1/1\u001b[0m \u001b[32m━━━━━━━━━━━━━━━━━━━━\u001b[0m\u001b[37m\u001b[0m \u001b[1m5s\u001b[0m 5s/step - accuracy: 1.0000 - loss: 0.0000e+00\n",
      "Epoch 15/15\n",
      "\u001b[1m1/1\u001b[0m \u001b[32m━━━━━━━━━━━━━━━━━━━━\u001b[0m\u001b[37m\u001b[0m \u001b[1m7s\u001b[0m 7s/step - accuracy: 1.0000 - loss: 0.0000e+00\n"
     ]
    }
   ],
   "source": [
    "categorias = [\"Mickey\",\"Goofy\"]\n",
    "\n",
    "matrices_numericas = []\n",
    "labels = []\n",
    "\n",
    "\n",
    "l = 0\n",
    "numero_fotos = 7\n",
    "\n",
    "for i in categorias:\n",
    "    foto = 1\n",
    "    for f in range(1,numero_fotos+1):\n",
    "        img = cv2.imread( i + '/' + str(f) +\".png\",0)\n",
    "        img = cv2.resize(img,(250,250))\n",
    "        matrices_numericas.append(img)\n",
    "        f = f + 1\n",
    "        labels.append(l)\n",
    "    l = l + 1\n",
    "\n",
    "modelo = Sequential([\n",
    "    # Primera capa convolucional\n",
    "    Conv2D(64, (3, 3), activation='relu', input_shape=(250, 250, 1)),  # 64 bloques que buscan cosas importantes en la imagen\n",
    "    MaxPooling2D((2, 2)),  # Reducir el tamaño del castillo para hacerlo más manejable\n",
    "    \n",
    "    # Segunda capa convolucional\n",
    "    Conv2D(32, (3, 3), activation='relu'),  # Otros 64 bloques buscando cosas más específicas\n",
    "    MaxPooling2D((2, 2)),  # Reducir el tamaño del castillo nuevamente\n",
    "    \n",
    "    Dropout(0.5),  # Algunos bloques toman un descanso para no volverse perezosos\n",
    "    \n",
    "    # Convertir el castillo en una sola línea\n",
    "    Flatten(),\n",
    "    \n",
    "    # Nueva base del castillo con solo 2 bloques, cada uno representando una clase diferente\n",
    "    Dense(2, activation='softmax')\n",
    "])\n",
    "\n",
    "\n",
    "# Compilar el modelo\n",
    "modelo.compile(optimizer='adam',  # Usar un algoritmo especial para construir y mejorar nuestro castillo\n",
    "               loss='sparse_categorical_crossentropy',  # Aprender de los errores para mejorar nuestro castillo\n",
    "               metrics=['accuracy'])  # Medir qué tan bueno es nuestro castillo\n",
    "\n",
    "matrices_numericas = np.array(matrices_numericas)\n",
    "labels = np.array(labels)\n",
    "modelo.fit(matrices_numericas,labels,epochs=15)\n",
    "\n",
    "modelo.save(\"modeloDisney.keras\")\n",
    "\n",
    "\n",
    "\n"
   ]
  },
  {
   "cell_type": "code",
   "execution_count": 34,
   "id": "afd4a4f8-2f05-4cb1-83d6-9242fb0a7f3b",
   "metadata": {},
   "outputs": [
    {
     "name": "stdout",
     "output_type": "stream",
     "text": [
      "\u001b[1m1/1\u001b[0m \u001b[32m━━━━━━━━━━━━━━━━━━━━\u001b[0m\u001b[37m\u001b[0m \u001b[1m0s\u001b[0m 159ms/step\n",
      "[[9.9999976e-01 2.4328534e-07]]\n",
      "Mickey: 99.99997615814209 %\n",
      "Goofy: 2.432853420941683e-05 %\n",
      "Resultado final:  Mickey\n"
     ]
    }
   ],
   "source": [
    "model = tf.keras.models.load_model(\"modeloDisney.keras\")\n",
    "\n",
    "test=cv2.imread(\"test1.png\",0) \n",
    "test=cv2.resize(test,(250,250)) \n",
    "test=np.asarray(test)\n",
    "test=np.array([test]) \n",
    "#mikey circulos de manera abstracta para analizar\n",
    "\n",
    "resultado=modelo.predict(test)\n",
    "print(resultado)  \n",
    "print(\"Mickey:\" , resultado[0][0]*100, \"%\" )   \n",
    "print(\"Goofy:\" , resultado[0][1]*100 , \"%\" )    \n",
    "\n",
    "print(\"Resultado final: \" , categorias[np.argmax(resultado[0])])"
   ]
  },
  {
   "cell_type": "code",
   "execution_count": 32,
   "id": "07f56b99-b0f0-41a8-aa11-ff7ad21130d7",
   "metadata": {},
   "outputs": [
    {
     "name": "stdout",
     "output_type": "stream",
     "text": [
      "\u001b[1m1/1\u001b[0m \u001b[32m━━━━━━━━━━━━━━━━━━━━\u001b[0m\u001b[37m\u001b[0m \u001b[1m0s\u001b[0m 153ms/step\n",
      "[[1.0000000e+00 1.1716755e-17]]\n",
      "Mickey: 100.0 %\n",
      "Goofy: 1.171675529646252e-15 %\n",
      "Resultado final:  Mickey\n"
     ]
    }
   ],
   "source": [
    "model = tf.keras.models.load_model(\"modeloDisney.keras\")\n",
    "\n",
    "test=cv2.imread(\"test1.jpeg\",0) \n",
    "test=cv2.resize(test,(250,250)) \n",
    "test=np.asarray(test)\n",
    "test=np.array([test]) \n",
    "# Personaje a analizar es spinel de steven universe\n",
    "\n",
    "resultado=modelo.predict(test)\n",
    "print(resultado)  \n",
    "print(\"Mickey:\" , resultado[0][0]*100, \"%\" )   \n",
    "print(\"Goofy:\" , resultado[0][1]*100 , \"%\" )    \n",
    "\n",
    "print(\"Resultado final: \" , categorias[np.argmax(resultado[0])])"
   ]
  },
  {
   "cell_type": "code",
   "execution_count": 33,
   "id": "d8e74a9d-a19f-4235-969a-c7f548894236",
   "metadata": {},
   "outputs": [
    {
     "name": "stdout",
     "output_type": "stream",
     "text": [
      "\u001b[1m1/1\u001b[0m \u001b[32m━━━━━━━━━━━━━━━━━━━━\u001b[0m\u001b[37m\u001b[0m \u001b[1m0s\u001b[0m 145ms/step\n",
      "[[3.5275083e-10 1.0000000e+00]]\n",
      "Mickey: 3.527508285472436e-08 %\n",
      "Goofy: 100.0 %\n",
      "Resultado final:  Goofy\n"
     ]
    }
   ],
   "source": [
    "model = tf.keras.models.load_model(\"modeloDisney.keras\")\n",
    "\n",
    "test=cv2.imread(\"test2.png\",0) \n",
    "test=cv2.resize(test,(250,250)) \n",
    "test=np.asarray(test)\n",
    "test=np.array([test]) \n",
    "\n",
    "# personaje a analizar bart Simpson\n",
    "\n",
    "resultado=modelo.predict(test)\n",
    "print(resultado)  \n",
    "print(\"Mickey:\" , resultado[0][0]*100, \"%\" )  \n",
    "print(\"Goofy:\" , resultado[0][1]*100 , \"%\" )    \n",
    "\n",
    "print(\"Resultado final: \" , categorias[np.argmax(resultado[0])])"
   ]
  }
 ],
 "metadata": {
  "kernelspec": {
   "display_name": "Python 3 (ipykernel)",
   "language": "python",
   "name": "python3"
  },
  "language_info": {
   "codemirror_mode": {
    "name": "ipython",
    "version": 3
   },
   "file_extension": ".py",
   "mimetype": "text/x-python",
   "name": "python",
   "nbconvert_exporter": "python",
   "pygments_lexer": "ipython3",
   "version": "3.11.3"
  }
 },
 "nbformat": 4,
 "nbformat_minor": 5
}
